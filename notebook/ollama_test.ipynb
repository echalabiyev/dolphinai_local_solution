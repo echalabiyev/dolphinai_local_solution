{
 "cells": [
  {
   "cell_type": "code",
   "execution_count": 2,
   "metadata": {},
   "outputs": [
    {
     "name": "stdout",
     "output_type": "stream",
     "text": [
      " Here is a basic example of a REST controller class in Java for a Spring Boot 3.2 application that handles GET and POST requests and includes security and configuration annotations:\n",
      "```\n",
      "@RestController\n",
      "@RequestMapping(\"/api\")\n",
      "@SecurityRequirement(name = \"bearerAuth\")\n",
      "public class DolphinAIController {\n",
      "\n",
      "    @Autowired\n",
      "    private DocumentSearchService documentSearchService;\n",
      "\n",
      "    @GetMapping(\"/documents\")\n",
      "    public ResponseEntity<List<Document>> searchDocuments(@RequestParam String query) {\n",
      "        List<Document> documents = documentSearchService.search(query);\n",
      "        return ResponseEntity.ok(documents);\n",
      "    }\n",
      "\n",
      "    @PostMapping(\"/calculation\")\n",
      "    public ResponseEntity<Double> calculateStatisticalData(@RequestBody CalculationRequest calculationRequest) {\n",
      "        Double result = documentSearchService.calculate(calculationRequest);\n",
      "        return ResponseEntity.ok(result);\n",
      "    }\n",
      "\n",
      "    @GetMapping(\"/sap-knowledgebase\")\n",
      "    public ResponseEntity<SAPKnowledgeBaseArticle> getSAPKnowledgeBaseArticle(@RequestParam String id) {\n",
      "        SAPKnowledgeBaseArticle article = documentSearchService.getSAPKnowledgeBaseArticle(id);\n",
      "        return ResponseEntity.ok(article);\n",
      "    }\n",
      "\n",
      "    @PostMapping(\"/sap-helpdesk\")\n",
      "    public ResponseEntity<String> handleSAPHelpDeskTicket(@RequestBody SAPHelpDeskTicket ticket) {\n",
      "        String response = documentSearchService.handleSAPHelpDeskTicket(ticket);\n",
      "        return ResponseEntity.ok(response);\n",
      "    }\n",
      "}\n",
      "```\n",
      "This example includes the following:\n",
      "\n",
      "* `@RestController` annotation to indicate that this class is a REST controller and will handle HTTP requests and responses\n",
      "* `@RequestMapping(\"/api\")` annotation to specify the base URL for all endpoints in this class\n",
      "* `@SecurityRequirement(name = \"bearerAuth\")` annotation to specify that bearer authentication is required for all endpoints in this class\n",
      "* `@Autowired` annotation to inject an instance of the `DocumentSearchService` class, which contains methods for handling document search, retrieval, calculation, and summarization.\n",
      "* Four methods, each mapped to a different endpoint:\n",
      "\t+ A GET endpoint (`/documents`) that takes a query parameter (`query`) and returns a list of documents matching the query.\n",
      "\t+ A POST endpoint (`/calculation`) that takes a JSON body (`CalculationRequest`) and returns the result of a statistical calculation.\n",
      "\t+ A GET endpoint (`/sap-knowledgebase`) that takes an id parameter and returns an SAP Knowledge Base article with the given id\n",
      "\t+ A POST endpoint (`/sap-helpdesk`) that takes a JSON body(SAPHelpDeskTicket) and handle the ticket based on files present on ticketing system.\n",
      "\n",
      "Please note that this is just a basic example, you will need to implement the actual logic of the methods in the `DocumentSearchService` class, also it's not common practice to use spring boot 3.2 as of now, current version is 2.6.x and 3.0.0 is still under development.\n"
     ]
    }
   ],
   "source": [
    "from llama_index.llms.ollama import Ollama\n",
    "\n",
    "llm = Ollama(model=\"dolphinai-mixtral:8x7b\", request_timeout=200.0)\n",
    "\n",
    "prompt = (\n",
    "  \"Create a REST controller class in Java for a Spring Boot 3.2 application. \"\n",
    "  \"This class should handle GET and POST requests, and include security and \"\n",
    "  \"configuration annotations.\"\n",
    ")\n",
    "\n",
    "response = llm.complete(prompt)\n",
    "print(response)"
   ]
  }
 ],
 "metadata": {
  "kernelspec": {
   "display_name": "Python 3",
   "language": "python",
   "name": "python3"
  },
  "language_info": {
   "codemirror_mode": {
    "name": "ipython",
    "version": 3
   },
   "file_extension": ".py",
   "mimetype": "text/x-python",
   "name": "python",
   "nbconvert_exporter": "python",
   "pygments_lexer": "ipython3",
   "version": "3.12.3"
  }
 },
 "nbformat": 4,
 "nbformat_minor": 2
}
