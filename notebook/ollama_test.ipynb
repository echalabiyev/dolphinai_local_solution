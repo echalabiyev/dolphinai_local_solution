{
 "cells": [
  {
   "cell_type": "code",
   "execution_count": 1,
   "metadata": {},
   "outputs": [
    {
     "name": "stdout",
     "output_type": "stream",
     "text": [
      " Sure, here is an example of a REST controller class in Java for a Spring Boot 3.2 application that handles GET and POST requests, includes security and configuration annotations, and is named \"DolphinAIController\":\n",
      "```java\n",
      "import org.springframework.beans.factory.annotation.Value;\n",
      "import org.springframework.security.access.prepost.PreAuthorize;\n",
      "import org.springframework.web.bind.annotation.GetMapping;\n",
      "import org.springframework.web.bind.annotation.PostMapping;\n",
      "import org.springframework.web.bind.annotation.RequestBody;\n",
      "import org.springframework.web.bind.annotation.RestController;\n",
      "\n",
      "@RestController\n",
      "@PreAuthorize(\"hasRole('ROLE_USER')\")\n",
      "public class DolphinAIController {\n",
      "\n",
      "    @Value(\"${application.message}\")\n",
      "    private String message;\n",
      "\n",
      "    // Handle GET requests\n",
      "    @GetMapping(\"/\")\n",
      "    public String welcome() {\n",
      "        return \"Welcome to DolphinAI! \" + this.message;\n",
      "    }\n",
      "\n",
      "    // Handle POST requests\n",
      "    @PostMapping(\"/process-document\")\n",
      "    public String processDocument(@RequestBody String document) {\n",
      "        // TODO: Implement logic for processing the document using SAP Business Transaction and DMS\n",
      "        return \"Processing document: \" + document;\n",
      "    }\n",
      "}\n",
      "```\n",
      "In this example, the `@RestController` annotation is used to indicate that this class handles HTTP requests and returns responses as JSON or XML. The `@PreAuthorize(\"hasRole('ROLE_USER')\")` annotation is used to restrict access to this endpoint to users who have the \"ROLE\\_USER\" role.\n",
      "\n",
      "The `@Value` annotation is used to inject a value from the application's configuration file (e.g., `application.properties`). The `welcome()` method handles GET requests to the root URL (\"/\") and returns a welcome message.\n",
      "\n",
      "The `processDocument()` method handles POST requests to the \"/process-document\" endpoint, accepts a document as a request body, and returns a response indicating that the document is being processed. The actual logic for processing the document using SAP Business Transaction and DMS would need to be implemented.\n",
      "\n",
      "Note: Spring Boot 3.2 has not been released yet, so this example assumes Spring Boot 2.6.x or later.\n"
     ]
    }
   ],
   "source": [
    "from llama_index.llms.ollama import Ollama\n",
    "\n",
    "llm = Ollama(model=\"dolphinai-mixtral:8x7b\", request_timeout=200.0)\n",
    "\n",
    "prompt = (\n",
    "  \"Create a REST controller class in Java for a Spring Boot 3.2 application. \"\n",
    "  \"This class should handle GET and POST requests, and include security and \"\n",
    "  \"configuration annotations.\"\n",
    ")\n",
    "\n",
    "response = llm.complete(prompt)\n",
    "print(response)"
   ]
  }
 ],
 "metadata": {
  "kernelspec": {
   "display_name": "Python 3",
   "language": "python",
   "name": "python3"
  },
  "language_info": {
   "codemirror_mode": {
    "name": "ipython",
    "version": 3
   },
   "file_extension": ".py",
   "mimetype": "text/x-python",
   "name": "python",
   "nbconvert_exporter": "python",
   "pygments_lexer": "ipython3",
   "version": "3.12.3"
  }
 },
 "nbformat": 4,
 "nbformat_minor": 2
}
