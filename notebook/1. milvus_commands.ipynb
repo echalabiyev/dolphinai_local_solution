{
 "cells": [
  {
   "cell_type": "markdown",
   "metadata": {},
   "source": [
    "# **1. Manage Databases**"
   ]
  },
  {
   "cell_type": "markdown",
   "metadata": {},
   "source": [
    "## **1.1. Create database**"
   ]
  },
  {
   "cell_type": "code",
   "execution_count": 1,
   "metadata": {},
   "outputs": [],
   "source": [
    "from pymilvus import connections, db\n",
    "\n",
    "conn = connections.connect(host=\"127.0.0.1\", port=19530)\n",
    "# database = db.create_database(\"dolphinai_db\")\n"
   ]
  },
  {
   "cell_type": "code",
   "execution_count": 13,
   "metadata": {},
   "outputs": [
    {
     "data": {
      "text/plain": [
       "['dolphinai_db', 'default']"
      ]
     },
     "execution_count": 13,
     "metadata": {},
     "output_type": "execute_result"
    }
   ],
   "source": [
    "db.list_database()"
   ]
  },
  {
   "cell_type": "markdown",
   "metadata": {},
   "source": [
    "## **1.2. Connect to the Client**\n",
    "\n",
    "if you simply provide `uri = \"http://localhost:19530/\"` it will connect to the `default` db"
   ]
  },
  {
   "cell_type": "code",
   "execution_count": 6,
   "metadata": {},
   "outputs": [
    {
     "data": {
      "text/plain": [
       "['dolphinai_collection']"
      ]
     },
     "execution_count": 6,
     "metadata": {},
     "output_type": "execute_result"
    }
   ],
   "source": [
    "from pymilvus import MilvusClient, DataType\n",
    "\n",
    "# 1. Set up a Milvus client\n",
    "client = MilvusClient(\n",
    "    uri=\"http://localhost:19530/dolphinai_db\"\n",
    ")\n",
    "client.list_collections() "
   ]
  },
  {
   "cell_type": "markdown",
   "metadata": {},
   "source": [
    "# **2. Manage Collections**"
   ]
  },
  {
   "cell_type": "markdown",
   "metadata": {},
   "source": [
    "## **2.1. Customized Collection setup**"
   ]
  },
  {
   "cell_type": "markdown",
   "metadata": {},
   "source": [
    "### **2.1.1. Step 1: Set up schema**"
   ]
  },
  {
   "cell_type": "code",
   "execution_count": 44,
   "metadata": {},
   "outputs": [
    {
     "data": {
      "text/plain": [
       "[]"
      ]
     },
     "execution_count": 44,
     "metadata": {},
     "output_type": "execute_result"
    }
   ],
   "source": [
    "# client.drop_collection(\"dolphinai_collection\")\n",
    "client.list_collections()"
   ]
  },
  {
   "cell_type": "code",
   "execution_count": 45,
   "metadata": {},
   "outputs": [
    {
     "data": {
      "text/plain": [
       "{'auto_id': True, 'description': 'dolphinai_collection', 'fields': [{'name': 'id', 'description': 'primary id', 'type': <DataType.INT64: 5>, 'is_primary': True, 'auto_id': False}, {'name': 'chunk_id', 'description': 'document chunk id', 'type': <DataType.VARCHAR: 21>, 'params': {'max_length': 50}}, {'name': 'text', 'description': 'text', 'type': <DataType.VARCHAR: 21>, 'params': {'max_length': 3000}}, {'name': 'source', 'description': 'document source', 'type': <DataType.VARCHAR: 21>, 'params': {'max_length': 256}}, {'name': 'embedding', 'description': 'vector embeddings', 'type': <DataType.FLOAT_VECTOR: 101>, 'params': {'dim': 1024}}], 'enable_dynamic_field': True}"
      ]
     },
     "execution_count": 45,
     "metadata": {},
     "output_type": "execute_result"
    }
   ],
   "source": [
    "\n",
    "schema = MilvusClient.create_schema(\n",
    "    auto_id=True,\n",
    "    enable_dynamic_field=True,\n",
    "    # partition_key_field=\"doc_types\",\n",
    "    # num_partitions=2,                   # Number of partitions. Defaults to 16.\n",
    "    description=\"dolphinai_collection\"\n",
    "\n",
    ")\n",
    "\n",
    "schema.add_field(field_name=\"id\", datatype=DataType.INT64, is_primary=True, description=\"primary id\")\n",
    "schema.add_field(field_name=\"chunk_id\", datatype=DataType.VARCHAR,max_length=50, description=\"document chunk id\")\n",
    "schema.add_field(field_name=\"text\", datatype=DataType.VARCHAR,max_length=3000, description=\"text\")\n",
    "schema.add_field(field_name=\"source\", datatype=DataType.VARCHAR, max_length=256, description=\"document source\")\n",
    "schema.add_field(field_name=\"embedding\", datatype=DataType.FLOAT_VECTOR,  dim=1024, description=\"vector embeddings\")\n"
   ]
  },
  {
   "cell_type": "markdown",
   "metadata": {},
   "source": [
    "### **2.1.2. Step 2: Set up index parameters**"
   ]
  },
  {
   "cell_type": "code",
   "execution_count": 46,
   "metadata": {},
   "outputs": [],
   "source": [
    "index_params = client.prepare_index_params()\n",
    "\n",
    "index_params.add_index(\n",
    "    field_name=\"id\",\n",
    "    index_type=\"STL_SORT\"\n",
    ")\n",
    "\n",
    "index_params.add_index(\n",
    "    field_name=\"embedding\", \n",
    "    index_type=\"GPU_IVF_FLAT\",\n",
    "    metric_type=\"L2\",\n",
    "    params={ \"nlist\": 1024 }\n",
    ")\n"
   ]
  },
  {
   "cell_type": "markdown",
   "metadata": {},
   "source": [
    "### **2.1.3. Step 3: Create the collection**"
   ]
  },
  {
   "cell_type": "code",
   "execution_count": 47,
   "metadata": {},
   "outputs": [
    {
     "name": "stdout",
     "output_type": "stream",
     "text": [
      "{'state': <LoadState: Loaded>}\n"
     ]
    }
   ],
   "source": [
    "import time\n",
    "\n",
    "client.create_collection(\n",
    "    collection_name=\"dolphinai_collection\",\n",
    "    schema=schema,\n",
    "    index_params=index_params,\n",
    "    using='dolphinai_db', # you ae specifying with db to use\n",
    "    shards_num=3\n",
    ")\n",
    "\n",
    "time.sleep(5)\n",
    "\n",
    "res = client.get_load_state(\n",
    "    collection_name=\"dolphinai_collection\"\n",
    ")\n",
    "\n",
    "print(res)\n",
    "\n"
   ]
  },
  {
   "cell_type": "code",
   "execution_count": 48,
   "metadata": {},
   "outputs": [
    {
     "data": {
      "text/plain": [
       "{'collection_name': 'dolphinai_collection',\n",
       " 'auto_id': True,\n",
       " 'num_shards': 3,\n",
       " 'description': 'dolphinai_collection',\n",
       " 'fields': [{'field_id': 100,\n",
       "   'name': 'id',\n",
       "   'description': 'primary id',\n",
       "   'type': <DataType.INT64: 5>,\n",
       "   'params': {},\n",
       "   'auto_id': True,\n",
       "   'is_primary': True},\n",
       "  {'field_id': 101,\n",
       "   'name': 'chunk_id',\n",
       "   'description': 'document chunk id',\n",
       "   'type': <DataType.VARCHAR: 21>,\n",
       "   'params': {'max_length': 50}},\n",
       "  {'field_id': 102,\n",
       "   'name': 'text',\n",
       "   'description': 'text',\n",
       "   'type': <DataType.VARCHAR: 21>,\n",
       "   'params': {'max_length': 3000}},\n",
       "  {'field_id': 103,\n",
       "   'name': 'source',\n",
       "   'description': 'document source',\n",
       "   'type': <DataType.VARCHAR: 21>,\n",
       "   'params': {'max_length': 256}},\n",
       "  {'field_id': 104,\n",
       "   'name': 'embedding',\n",
       "   'description': 'vector embeddings',\n",
       "   'type': <DataType.FLOAT_VECTOR: 101>,\n",
       "   'params': {'dim': 1024}}],\n",
       " 'aliases': [],\n",
       " 'collection_id': 452339642855856589,\n",
       " 'consistency_level': 2,\n",
       " 'properties': {},\n",
       " 'num_partitions': 1,\n",
       " 'enable_dynamic_field': True}"
      ]
     },
     "execution_count": 48,
     "metadata": {},
     "output_type": "execute_result"
    }
   ],
   "source": [
    "client.describe_collection(\"dolphinai_collection\")"
   ]
  },
  {
   "cell_type": "markdown",
   "metadata": {},
   "source": [
    "## **2.2. View Collections**"
   ]
  },
  {
   "cell_type": "code",
   "execution_count": 39,
   "metadata": {},
   "outputs": [
    {
     "data": {
      "text/plain": [
       "{'collection_name': 'dolphinai_collection',\n",
       " 'auto_id': True,\n",
       " 'num_shards': 3,\n",
       " 'description': 'dolphinai_collection',\n",
       " 'fields': [{'field_id': 100,\n",
       "   'name': 'id',\n",
       "   'description': 'primary id',\n",
       "   'type': <DataType.INT64: 5>,\n",
       "   'params': {},\n",
       "   'auto_id': True,\n",
       "   'is_primary': True},\n",
       "  {'field_id': 101,\n",
       "   'name': 'chunk_id',\n",
       "   'description': 'document chunk id',\n",
       "   'type': <DataType.VARCHAR: 21>,\n",
       "   'params': {'max_length': 50}},\n",
       "  {'field_id': 102,\n",
       "   'name': 'text',\n",
       "   'description': 'text',\n",
       "   'type': <DataType.VARCHAR: 21>,\n",
       "   'params': {'max_length': 3000}},\n",
       "  {'field_id': 103,\n",
       "   'name': 'doc_types',\n",
       "   'description': 'document source',\n",
       "   'type': <DataType.VARCHAR: 21>,\n",
       "   'params': {'max_length': 256}},\n",
       "  {'field_id': 104,\n",
       "   'name': 'embedding',\n",
       "   'description': 'vector embeddings',\n",
       "   'type': <DataType.FLOAT_VECTOR: 101>,\n",
       "   'params': {'dim': 1024}}],\n",
       " 'aliases': [],\n",
       " 'collection_id': 452339642855855043,\n",
       " 'consistency_level': 2,\n",
       " 'properties': {},\n",
       " 'num_partitions': 1,\n",
       " 'enable_dynamic_field': True}"
      ]
     },
     "execution_count": 39,
     "metadata": {},
     "output_type": "execute_result"
    }
   ],
   "source": [
    "\n",
    "res = client.describe_collection(\n",
    "    collection_name=\"dolphinai_collection\"\n",
    ")\n",
    "\n",
    "res"
   ]
  },
  {
   "cell_type": "markdown",
   "metadata": {},
   "source": [
    "## **2.3. Load & Release Collection**\n",
    "\n",
    "During the loading process of a collection, Milvus loads the collection’s index file into memory. Conversely, when releasing a collection, Milvus unloads the index file from memory. ***Before conducting searches in a collection, ensure that the collection is loaded***."
   ]
  },
  {
   "cell_type": "markdown",
   "metadata": {},
   "source": [
    "### **2.3.1. Load a collection**"
   ]
  },
  {
   "cell_type": "code",
   "execution_count": 40,
   "metadata": {},
   "outputs": [
    {
     "name": "stdout",
     "output_type": "stream",
     "text": [
      "{'state': <LoadState: Loaded>}\n"
     ]
    }
   ],
   "source": [
    "client.load_collection(\n",
    "    collection_name=\"dolphinai_collection\",\n",
    "    replica_number=1 # Number of replicas to create on query nodes. Max value is 1 for Milvus Standalone, and no greater than `queryNode.replicas` for Milvus Cluster.\n",
    ")\n",
    "\n",
    "res = client.get_load_state(\n",
    "    collection_name=\"dolphinai_collection\"\n",
    ")\n",
    "\n",
    "print(res)\n",
    "\n"
   ]
  },
  {
   "cell_type": "markdown",
   "metadata": {},
   "source": [
    "### **2.3.2. Release a collection**"
   ]
  },
  {
   "cell_type": "code",
   "execution_count": 41,
   "metadata": {},
   "outputs": [
    {
     "name": "stdout",
     "output_type": "stream",
     "text": [
      "{'state': <LoadState: NotLoad>}\n"
     ]
    }
   ],
   "source": [
    "client.release_collection(\n",
    "    collection_name=\"dolphinai_collection\"\n",
    ")\n",
    "\n",
    "res = client.get_load_state(\n",
    "    collection_name=\"dolphinai_collection\"\n",
    ")\n",
    "\n",
    "print(res)\n",
    "\n"
   ]
  },
  {
   "cell_type": "markdown",
   "metadata": {},
   "source": [
    "## **2.4. Set up aliases**\n",
    "You can assign aliases for collections to make them more meaningful in a specific context. You can assign multiple aliases for a collection, but multiple collections cannot share an alias."
   ]
  },
  {
   "cell_type": "markdown",
   "metadata": {},
   "source": [
    "### **2.4.1. Create aliases**"
   ]
  },
  {
   "cell_type": "code",
   "execution_count": 26,
   "metadata": {},
   "outputs": [],
   "source": [
    "client.create_alias(\n",
    "    collection_name=\"dolphinai_collection\",\n",
    "    alias=\"bob\"\n",
    ")\n",
    "\n",
    "client.create_alias(\n",
    "    collection_name=\"dolphinai_collection\",\n",
    "    alias=\"alice\"\n",
    ")\n"
   ]
  },
  {
   "cell_type": "markdown",
   "metadata": {},
   "source": [
    "### **2.4.2. List aliases**"
   ]
  },
  {
   "cell_type": "code",
   "execution_count": 27,
   "metadata": {},
   "outputs": [
    {
     "name": "stdout",
     "output_type": "stream",
     "text": [
      "{'aliases': ['bob', 'alice'], 'collection_name': 'dolphinai_collection', 'db_name': 'dolphinai_db'}\n"
     ]
    }
   ],
   "source": [
    "res = client.list_aliases(\n",
    "    collection_name=\"dolphinai_collection\"\n",
    ")\n",
    "\n",
    "print(res)\n",
    "\n"
   ]
  },
  {
   "cell_type": "markdown",
   "metadata": {},
   "source": [
    "### **2.4.3. Describe aliases**"
   ]
  },
  {
   "cell_type": "code",
   "execution_count": 5,
   "metadata": {},
   "outputs": [
    {
     "name": "stdout",
     "output_type": "stream",
     "text": [
      "{'alias': 'boba', 'collection_name': 'dolphinai_collection', 'db_name': 'dolphinai_db'}\n"
     ]
    }
   ],
   "source": [
    "res = client.describe_alias(\n",
    "    alias=\"boba\"\n",
    ")\n",
    "\n",
    "print(res)\n",
    "\n"
   ]
  },
  {
   "cell_type": "markdown",
   "metadata": {},
   "source": [
    "### **2.4.4. Reassign aliases**"
   ]
  },
  {
   "cell_type": "code",
   "execution_count": 132,
   "metadata": {},
   "outputs": [
    {
     "name": "stdout",
     "output_type": "stream",
     "text": [
      "{'aliases': ['bob', 'alice'], 'collection_name': 'dolphinai_collection', 'db_name': 'dolphinai_db'}\n",
      "{'aliases': ['bob', 'alice'], 'collection_name': 'dolphinai_collection', 'db_name': 'dolphinai_db'}\n"
     ]
    }
   ],
   "source": [
    "# client.alter_alias(\n",
    "#     collection_name=\"dolphinai_collection_1\",\n",
    "#     alias=\"alice\"\n",
    "# )\n",
    "\n",
    "# res = client.list_aliases(\n",
    "#     collection_name=\"dolphinai_collection_1\"\n",
    "# )\n",
    "\n",
    "# print(res)\n",
    "\n",
    "\n",
    "# res = client.list_aliases(\n",
    "#     collection_name=\"dolphinai_collection\"\n",
    "# )\n",
    "\n",
    "# print(res)\n",
    "\n"
   ]
  },
  {
   "cell_type": "markdown",
   "metadata": {},
   "source": [
    "### **2.4.5. Drop aliases**"
   ]
  },
  {
   "cell_type": "code",
   "execution_count": 25,
   "metadata": {},
   "outputs": [],
   "source": [
    "client.drop_alias(\n",
    "    alias=\"bob\"\n",
    ")\n",
    "\n",
    "client.drop_alias(\n",
    "    alias=\"alice\"\n",
    ")\n"
   ]
  },
  {
   "cell_type": "markdown",
   "metadata": {},
   "source": [
    "# **3. Manage Partitons**"
   ]
  },
  {
   "cell_type": "markdown",
   "metadata": {},
   "source": [
    "## **3.1. List Partitions**\n",
    "\n",
    "A partition in Milvus represents a sub-division of a collection. This functionality allows the physical storage of a collection to be divided into multiple parts, contributing to improved query performance by narrowing down the focus to a smaller subset of data rather than the entire collection.\n",
    "\n",
    "Upon the creation of a collection, at least a default partition named _default is automatically created. You can create a maximum of 1,024 partitions within a collection.\n",
    "\n",
    "If the ***Partition Key*** feature is on in a collection, Milvus takes care of managing all the partitions, relieving you of this responsibility. in our cas the `position` field is a partition key.\n",
    "\n",
    "A collection can have ***up to*** `1,024` ***partitions***."
   ]
  },
  {
   "cell_type": "code",
   "execution_count": 42,
   "metadata": {},
   "outputs": [
    {
     "name": "stdout",
     "output_type": "stream",
     "text": [
      "['_default']\n"
     ]
    }
   ],
   "source": [
    "res = client.list_partitions(collection_name=\"dolphinai_collection\")\n",
    "print(res)\n",
    "\n"
   ]
  },
  {
   "cell_type": "markdown",
   "metadata": {},
   "source": [
    "## **3.2. Create Partitions**\n",
    "\n",
    "`If you have set a field as the partition key in a collection, Milvus takes care of managing the partitions in the collection. Therefore, you may encounter prompted errors when attempting to create partitions.`"
   ]
  },
  {
   "cell_type": "code",
   "execution_count": 49,
   "metadata": {},
   "outputs": [
    {
     "name": "stdout",
     "output_type": "stream",
     "text": [
      "['_default', 'transactions', 'sap_documents']\n"
     ]
    }
   ],
   "source": [
    "client.create_partition(\n",
    "    collection_name=\"dolphinai_collection\",\n",
    "    partition_name=\"transactions\"\n",
    ")\n",
    "\n",
    "client.create_partition(\n",
    "    collection_name=\"dolphinai_collection\",\n",
    "    partition_name=\"sap_documents\"\n",
    ")\n",
    "\n",
    "res = client.list_partitions(collection_name=\"dolphinai_collection\")\n",
    "print(res)\n",
    "\n"
   ]
  },
  {
   "cell_type": "markdown",
   "metadata": {},
   "source": [
    "## **3.3. Check for a Specific Partition** "
   ]
  },
  {
   "cell_type": "code",
   "execution_count": 32,
   "metadata": {},
   "outputs": [
    {
     "name": "stdout",
     "output_type": "stream",
     "text": [
      "True\n",
      "True\n"
     ]
    }
   ],
   "source": [
    "res = client.has_partition(\n",
    "    collection_name=\"dolphinai_collection\",\n",
    "    partition_name=\"transactions\"\n",
    ")\n",
    "print(res)\n",
    "\n",
    "\n",
    "res = client.has_partition(\n",
    "    collection_name=\"dolphinai_collection\",\n",
    "    partition_name=\"sap_documents\"\n",
    ")\n",
    "print(res)\n",
    "\n"
   ]
  },
  {
   "cell_type": "markdown",
   "metadata": {},
   "source": [
    "## **3.4. Load & Release Partitions**\n",
    "\n",
    "You can load and release specific partitions to make them available or unavailable for searches and queries."
   ]
  },
  {
   "cell_type": "markdown",
   "metadata": {},
   "source": [
    "### **3.4.1. Get Load Status**"
   ]
  },
  {
   "cell_type": "code",
   "execution_count": 33,
   "metadata": {},
   "outputs": [],
   "source": [
    "# Release the collection\n",
    "client.release_collection(collection_name=\"dolphinai_collection\")\n",
    "\n",
    "# Check the load status\n",
    "res = client.get_load_state(collection_name=\"dolphinai_collection\")\n",
    "print(res)"
   ]
  },
  {
   "cell_type": "code",
   "execution_count": 8,
   "metadata": {},
   "outputs": [
    {
     "name": "stdout",
     "output_type": "stream",
     "text": [
      "{'state': <LoadState: Loaded>}\n"
     ]
    }
   ],
   "source": [
    "res = client.get_load_state(\n",
    "    collection_name=\"dolphinai_collection\", \n",
    "    partition_name=\"transactions\"\n",
    ")\n",
    "\n",
    "print(res)"
   ]
  },
  {
   "cell_type": "code",
   "execution_count": 33,
   "metadata": {},
   "outputs": [
    {
     "name": "stdout",
     "output_type": "stream",
     "text": [
      "{'state': <LoadState: NotLoad>}\n"
     ]
    }
   ],
   "source": [
    "res = client.get_load_state(\n",
    "    collection_name=\"dolphinai_collection\", \n",
    "    partition_name=\"sap_documents\"\n",
    ")\n",
    "\n",
    "print(res)"
   ]
  },
  {
   "cell_type": "markdown",
   "metadata": {},
   "source": [
    "### **3.4.2. Load Partitions**"
   ]
  },
  {
   "cell_type": "code",
   "execution_count": 7,
   "metadata": {},
   "outputs": [
    {
     "name": "stdout",
     "output_type": "stream",
     "text": [
      "{'state': <LoadState: Loaded>}\n"
     ]
    }
   ],
   "source": [
    "# Load single partition\n",
    "client.load_partitions(\n",
    "    collection_name=\"dolphinai_collection\",\n",
    "    partition_names=[\"transactions\"]\n",
    ")\n",
    "\n",
    "res = client.get_load_state(collection_name=\"dolphinai_collection\")\n",
    "print(res)\n",
    "\n"
   ]
  },
  {
   "cell_type": "code",
   "execution_count": 14,
   "metadata": {},
   "outputs": [
    {
     "name": "stdout",
     "output_type": "stream",
     "text": [
      "{'state': <LoadState: Loaded>}\n",
      "{'state': <LoadState: Loaded>}\n"
     ]
    }
   ],
   "source": [
    "# Load single partition\n",
    "client.load_partitions(\n",
    "    collection_name=\"dolphinai_collection\",\n",
    "    partition_names=[\"transactions\", \"sap_documents\"]\n",
    ")\n",
    "\n",
    "res = client.get_load_state(\n",
    "    collection_name=\"dolphinai_collection\",\n",
    "    partition_name=\"transactions\"\n",
    ")\n",
    "print(res)\n",
    "\n",
    "res = client.get_load_state(\n",
    "    collection_name=\"dolphinai_collection\",\n",
    "    partition_name=\"sap_documents\"\n",
    ")\n",
    "print(res)"
   ]
  },
  {
   "cell_type": "markdown",
   "metadata": {},
   "source": [
    "### **3.4.3. Release Partitions**"
   ]
  },
  {
   "cell_type": "code",
   "execution_count": 17,
   "metadata": {},
   "outputs": [
    {
     "name": "stdout",
     "output_type": "stream",
     "text": [
      "{'state': <LoadState: NotLoad>}\n"
     ]
    }
   ],
   "source": [
    "# Release single Partition\n",
    "client.release_partitions(\n",
    "    collection_name=\"dolphinai_collection\",\n",
    "    partition_names=[\"transactions\"]\n",
    ")\n",
    "\n",
    "res = client.get_load_state(\n",
    "    collection_name=\"dolphinai_collection\", \n",
    "    partition_name=\"transactions\"\n",
    ")\n",
    "\n",
    "print(res)"
   ]
  },
  {
   "cell_type": "code",
   "execution_count": 21,
   "metadata": {},
   "outputs": [
    {
     "name": "stdout",
     "output_type": "stream",
     "text": [
      "{'state': <LoadState: NotLoad>}\n"
     ]
    }
   ],
   "source": [
    "# Release multiple Partitions\n",
    "client.release_partitions(\n",
    "    collection_name=\"dolphinai_collection\",\n",
    "    partition_names=[\"_default\", \"transactions\", \"sap_documents\"]\n",
    ")\n",
    "\n",
    "res = client.get_load_state(\n",
    "    collection_name=\"dolphinai_collection\",\n",
    ")\n",
    "print(res)"
   ]
  },
  {
   "cell_type": "markdown",
   "metadata": {},
   "source": [
    "### **3.4.4. Release Partitions**"
   ]
  },
  {
   "cell_type": "code",
   "execution_count": 24,
   "metadata": {},
   "outputs": [],
   "source": [
    "# client.drop_partition(\n",
    "#     collection_name=\"dolphinai_collection\",\n",
    "#     partition_name=\"transactions\"\n",
    "# )\n",
    "\n",
    "# res = client.list_partitions(collection_name=\"dolphinai_collection\")\n",
    "# print(res)\n",
    "\n"
   ]
  },
  {
   "cell_type": "code",
   "execution_count": null,
   "metadata": {},
   "outputs": [],
   "source": []
  },
  {
   "cell_type": "code",
   "execution_count": 8,
   "metadata": {},
   "outputs": [],
   "source": [
    "from llama_index.core import VectorStoreIndex, SimpleDirectoryReader\n",
    "# Correctly referencing the file using the relative path\n",
    "file_path = \"../artifacts/files\"\n",
    "# Loading the data\n",
    "documents = SimpleDirectoryReader(file_path).load_data()"
   ]
  },
  {
   "cell_type": "code",
   "execution_count": 9,
   "metadata": {},
   "outputs": [
    {
     "data": {
      "text/plain": [
       "Document(id_='25b86281-955b-415a-8cab-4379d58afca6', embedding=None, metadata={'page_label': '1', 'file_name': 'deliverynote1.pdf', 'file_path': '/data1/dolphinai-project/app/notebook/../artifacts/files/deliverynote1.pdf', 'file_type': 'application/pdf', 'file_size': 50953, 'creation_date': '2024-08-29', 'last_modified_date': '2024-08-29'}, excluded_embed_metadata_keys=['file_name', 'file_type', 'file_size', 'creation_date', 'last_modified_date', 'last_accessed_date'], excluded_llm_metadata_keys=['file_name', 'file_type', 'file_size', 'creation_date', 'last_modified_date', 'last_accessed_date'], relationships={}, text='Mikron Corp. Monroe Delivery Note N. 33721\\nDelivery Note\\nCodice Cliente: ACME001\\nData: 25/11/2023\\nFornitore:\\nMikron Corp. Monroe\\n200 Main Street\\nMonroe, CT 06468, USA\\nPhone: +1 203 261 31 00\\nFax: +1 203 268 47 52Destinatario:\\nACME Automotive Inc.\\n456 Industrial Blvd\\nSometown, CA 98765, USA\\nPhone: +1 555 987 6543\\nEmail: info@acmeautomotive.com\\nQuantit` a Codice Prodotto Descrizione Firma Ricezione\\n4 101-ABCD Trapano Elettrico da 550W\\n6 202-EFGH Seghetto Alternativo Portatile\\n8 303-IJKL Set di Chiavi a Cricchetto\\n3 404-MNOP Mola Diamantata per Smerigli-\\natrice\\n5 505-QRST Martello Demolitore Elettrico\\nNote di Consegna: Per favore, controllare la merce al momento della consegna. Eventuali reclami\\ndevono essere presentati entro 7 giorni dalla data di consegna.\\nIstruzioni di Installazione: In caso di bisogno, le istruzioni di installazione sono disponibili sul\\nnostro sito web all’indirizzo www.mikroncorp.com/installation.\\nContatti Assistenza: In caso di problemi o domande, non esitate a contattare il nostro servizio\\nassistenza clienti al numero +1 800 123 4567 o via email all’indirizzo assistenza@mikroncorp.com.\\n200 Main Street, Monroe, CT 06468, USA Phone: +1 203 261 31 00, Fax: +1 203 268 47 52', mimetype='text/plain', start_char_idx=None, end_char_idx=None, text_template='{metadata_str}\\n\\n{content}', metadata_template='{key}: {value}', metadata_seperator='\\n')"
      ]
     },
     "execution_count": 9,
     "metadata": {},
     "output_type": "execute_result"
    }
   ],
   "source": [
    "documents[0]"
   ]
  },
  {
   "cell_type": "code",
   "execution_count": null,
   "metadata": {},
   "outputs": [],
   "source": []
  }
 ],
 "metadata": {
  "kernelspec": {
   "display_name": ".venv",
   "language": "python",
   "name": "python3"
  },
  "language_info": {
   "codemirror_mode": {
    "name": "ipython",
    "version": 3
   },
   "file_extension": ".py",
   "mimetype": "text/x-python",
   "name": "python",
   "nbconvert_exporter": "python",
   "pygments_lexer": "ipython3",
   "version": "3.12.3"
  }
 },
 "nbformat": 4,
 "nbformat_minor": 2
}
